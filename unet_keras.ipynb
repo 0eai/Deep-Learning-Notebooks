{
  "nbformat": 4,
  "nbformat_minor": 0,
  "metadata": {
    "kernelspec": {
      "name": "python3",
      "display_name": "Python 3"
    },
    "colab": {
      "name": "unet_keras.ipynb",
      "provenance": [],
      "collapsed_sections": [],
      "machine_shape": "hm",
      "include_colab_link": true
    },
    "accelerator": "GPU"
  },
  "cells": [
    {
      "cell_type": "markdown",
      "metadata": {
        "id": "view-in-github",
        "colab_type": "text"
      },
      "source": [
        "<a href=\"https://colab.research.google.com/github/Anspire/Notebooks/blob/master/unet_keras.ipynb\" target=\"_parent\"><img src=\"https://colab.research.google.com/assets/colab-badge.svg\" alt=\"Open In Colab\"/></a>"
      ]
    },
    {
      "cell_type": "code",
      "metadata": {
        "id": "yTTa_n9ZefTu",
        "colab_type": "code",
        "outputId": "652d95c4-52c9-43a0-e125-0c0e911638db",
        "colab": {
          "base_uri": "https://localhost:8080/",
          "height": 124
        }
      },
      "source": [
        "from google.colab import drive\n",
        "drive.mount('/content/drive')"
      ],
      "execution_count": 0,
      "outputs": [
        {
          "output_type": "stream",
          "text": [
            "Go to this URL in a browser: https://accounts.google.com/o/oauth2/auth?client_id=947318989803-6bn6qk8qdgf4n4g3pfee6491hc0brc4i.apps.googleusercontent.com&redirect_uri=urn%3Aietf%3Awg%3Aoauth%3A2.0%3Aoob&scope=email%20https%3A%2F%2Fwww.googleapis.com%2Fauth%2Fdocs.test%20https%3A%2F%2Fwww.googleapis.com%2Fauth%2Fdrive%20https%3A%2F%2Fwww.googleapis.com%2Fauth%2Fdrive.photos.readonly%20https%3A%2F%2Fwww.googleapis.com%2Fauth%2Fpeopleapi.readonly&response_type=code\n",
            "\n",
            "Enter your authorization code:\n",
            "··········\n",
            "Mounted at /content/drive\n"
          ],
          "name": "stdout"
        }
      ]
    },
    {
      "cell_type": "code",
      "metadata": {
        "id": "f6mcouNfdw3X",
        "colab_type": "code",
        "outputId": "b477eb9d-a312-4f1a-c68a-f9d0aa48d83c",
        "colab": {
          "base_uri": "https://localhost:8080/",
          "height": 990
        }
      },
      "source": [
        "!unzip '/content/drive/My Drive/data1.zip'"
      ],
      "execution_count": 0,
      "outputs": [
        {
          "output_type": "stream",
          "text": [
            "Archive:  /content/drive/My Drive/data1.zip\n",
            "   creating: data/\n",
            "   creating: data/original_images/\n",
            "  inflating: data/original_images/6010_1_2.jpg  \n",
            "  inflating: data/original_images/6010_4_2.jpg  \n",
            "  inflating: data/original_images/6010_4_4.jpg  \n",
            "  inflating: data/original_images/6040_1_0.jpg  \n",
            "  inflating: data/original_images/6040_1_3.jpg  \n",
            "  inflating: data/original_images/6040_2_2.jpg  \n",
            "  inflating: data/original_images/6040_4_4.jpg  \n",
            "  inflating: data/original_images/6060_2_3.jpg  \n",
            "  inflating: data/original_images/6070_2_3.jpg  \n",
            "  inflating: data/original_images/6090_2_0.jpg  \n",
            "  inflating: data/original_images/6100_1_3.jpg  \n",
            "  inflating: data/original_images/6100_2_2.jpg  \n",
            "  inflating: data/original_images/6100_2_3.jpg  \n",
            "  inflating: data/original_images/6110_1_2.jpg  \n",
            "  inflating: data/original_images/6110_3_1.jpg  \n",
            "  inflating: data/original_images/6110_4_0.jpg  \n",
            "  inflating: data/original_images/6120_2_0.jpg  \n",
            "  inflating: data/original_images/6120_2_2.jpg  \n",
            "  inflating: data/original_images/6140_1_2.jpg  \n",
            "  inflating: data/original_images/6140_3_1.jpg  \n",
            "  inflating: data/original_images/6150_2_3.jpg  \n",
            "  inflating: data/original_images/6160_2_1.jpg  \n",
            "  inflating: data/original_images/6170_0_4.jpg  \n",
            "  inflating: data/original_images/6170_2_4.jpg  \n",
            "  inflating: data/original_images/6170_4_1.jpg  \n",
            "   creating: data/original_masks/\n",
            "  inflating: data/original_masks/6010_1_2_mask.jpg  \n",
            "  inflating: data/original_masks/6010_4_2_mask.jpg  \n",
            "  inflating: data/original_masks/6010_4_4_mask.jpg  \n",
            "  inflating: data/original_masks/6040_1_0_mask.jpg  \n",
            "  inflating: data/original_masks/6040_1_3_mask.jpg  \n",
            "  inflating: data/original_masks/6040_2_2_mask.jpg  \n",
            "  inflating: data/original_masks/6040_4_4_mask.jpg  \n",
            "  inflating: data/original_masks/6060_2_3_mask.jpg  \n",
            "  inflating: data/original_masks/6070_2_3_mask.jpg  \n",
            "  inflating: data/original_masks/6090_2_0_mask.jpg  \n",
            "  inflating: data/original_masks/6100_1_3_mask.jpg  \n",
            "  inflating: data/original_masks/6100_2_2_mask.jpg  \n",
            "  inflating: data/original_masks/6100_2_3_mask.jpg  \n",
            "  inflating: data/original_masks/6110_1_2_mask.jpg  \n",
            "  inflating: data/original_masks/6110_3_1_mask.jpg  \n",
            "  inflating: data/original_masks/6110_4_0_mask.jpg  \n",
            "  inflating: data/original_masks/6120_2_0_mask.jpg  \n",
            "  inflating: data/original_masks/6120_2_2_mask.jpg  \n",
            "  inflating: data/original_masks/6140_1_2_mask.jpg  \n",
            "  inflating: data/original_masks/6140_3_1_mask.jpg  \n",
            "  inflating: data/original_masks/6150_2_3_mask.jpg  \n",
            "  inflating: data/original_masks/6160_2_1_mask.jpg  \n",
            "  inflating: data/original_masks/6170_0_4_mask.jpg  \n",
            "  inflating: data/original_masks/6170_2_4_mask.jpg  \n",
            "  inflating: data/original_masks/6170_4_1_mask.jpg  \n",
            "   creating: data/preprocessed_images/\n",
            "   creating: data/preprocessed_masks/\n"
          ],
          "name": "stdout"
        }
      ]
    },
    {
      "cell_type": "code",
      "metadata": {
        "id": "Ycc_GemafEH4",
        "colab_type": "code",
        "outputId": "7c841fb6-bb6c-41c1-b03d-c0d2c2a14679",
        "colab": {
          "base_uri": "https://localhost:8080/",
          "height": 34
        }
      },
      "source": [
        "import pickle\n",
        "import cv2\n",
        "import os\n",
        "import numpy as np\n",
        "import matplotlib.pyplot as plt\n",
        "from unet_helpers import (dice_coef,\n",
        "                          dice_coef_loss,\n",
        "                          load_images,\n",
        "                          split_data)\n",
        "from keras.models import Model\n",
        "from keras.layers import (Input,\n",
        "                          Conv2D,\n",
        "                          MaxPooling2D,\n",
        "                          UpSampling2D,\n",
        "                          Dropout,\n",
        "                          Concatenate)\n",
        "from keras.optimizers import Adam\n",
        "from keras.callbacks import ModelCheckpoint, EarlyStopping"
      ],
      "execution_count": 0,
      "outputs": [
        {
          "output_type": "stream",
          "text": [
            "Using TensorFlow backend.\n"
          ],
          "name": "stderr"
        }
      ]
    },
    {
      "cell_type": "code",
      "metadata": {
        "id": "k66Wa8QqfEIh",
        "colab_type": "code",
        "colab": {}
      },
      "source": [
        "RESIZED_WIDTH=256 \n",
        "RESIZED_HEIGHT=256 \n",
        "ORIGINAL_IMAGE_ABSOLUTE_PATH='/content/data/original_images'\n",
        "ORIGINAL_MASK_ABSOLUTE_PATH='/content/data/original_masks'\n",
        "PREPROCESSED_IMAGE_ABSOLUTE_PATH='/content/data/preprocessed_images'\n",
        "PREPROCESSED_MASK_ABSOLUTE_PATH='/content/data/preprocessed_masks'\n",
        "MODEL_WITH_MINIMUM_LOSS_ABSOLUTE_FPATH='/content/drive/My Drive/val_loss_min_unet.hdf5'\n",
        "FINAL_MODEL_ABSOLUTE_FPATH='/content/drive/My Drive/unet.hdf5'\n",
        "HISTORY_ABSOLUTE_FPATH='/content/drive/My Drive/history.pickle'\n",
        "BATCH_SIZE=16\n",
        "NUM_EPOCHS=25\n",
        "LEARNING_RATE=1e-2\n",
        "EARLY_STOP_VAL_PATIENCE=25"
      ],
      "execution_count": 0,
      "outputs": []
    },
    {
      "cell_type": "code",
      "metadata": {
        "id": "F9U--KEhfEIv",
        "colab_type": "code",
        "colab": {}
      },
      "source": [
        "def split_images(images, xmax=RESIZED_WIDTH, ymax=RESIZED_HEIGHT):\n",
        "    '''\n",
        "    Params: images -- numpy array representing the set of images\n",
        "            xmax -- the desired width of each of the output image\n",
        "            ymax -- the desired height of each of the output images\n",
        "\n",
        "    Returns: imgarr -- a numpy array of the input images split and resized\n",
        "                       to the given width and height.\n",
        "    '''\n",
        "    imtotal = len(images)\n",
        "    imshape = images[0].shape\n",
        "    xnum = int(imshape[0] / xmax)\n",
        "    ynum = int(imshape[1] / ymax)\n",
        "    inum = xnum * ynum\n",
        "    imgarr = np.zeros((imtotal * xnum * ynum, xmax, ymax, 3), dtype='uint8')\n",
        "    for num, img in enumerate(images):\n",
        "        for i in range(xnum):\n",
        "            for j in range(ynum):\n",
        "                xstart = i * xmax\n",
        "                xend = (i + 1) * xmax\n",
        "                ystart = j * ymax\n",
        "                yend = (j + 1) * ymax\n",
        "                split_img = img[xstart:xend, ystart:yend, :]\n",
        "                imgarr[num * inum + i * ynum + j] = split_img\n",
        "    return imgarr\n",
        "\n",
        "\n",
        "def get_images_with_masks(original_path, masked_path):\n",
        "    ''' Loads the images and masks from file paths and formats them into\n",
        "        numpy arrays.\n",
        "\n",
        "        Params: original_path -- filepath to folder where original images are\n",
        "                                 stored\n",
        "                masked_path   -- filepath to folder where original masks which\n",
        "                                 correspond to the images are stored\n",
        "\n",
        "        Returns (tuple): imgarr -- numpy array of input images\n",
        "                         masked_img_arr -- numpy array of masked images\n",
        "    '''\n",
        "    masks = []\n",
        "    original_files = []\n",
        "    for original_image in os.listdir(original_path):\n",
        "        original_image_fpath = os.path.join(original_path, original_image)\n",
        "        masked_images_fpath = os.path.join(masked_path,\n",
        "                                           original_image[0:-4] + \"_mask.jpg\")\n",
        "        masks.append(masked_images_fpath)\n",
        "        original_files.append(original_image_fpath)\n",
        "\n",
        "    img_sample = cv2.imread(original_files[0])\n",
        "    xmax, ymax, channels = img_sample.shape\n",
        "\n",
        "    imgarr = np.zeros(shape=(len(original_files), xmax, ymax, 3),\n",
        "                      dtype='uint8')\n",
        "    masked_img_arr = np.zeros(shape=(len(masks), xmax, ymax, 3), dtype='uint8')\n",
        "    for i, infile in enumerate(original_files):\n",
        "        if infile[-4:] == 'jpeg' or infile[-3:] == 'jpg':\n",
        "            img = cv2.imread(infile)\n",
        "            img = cv2.resize(img, (ymax, xmax))\n",
        "            imgarr[i, :] = img\n",
        "\n",
        "            masked_infile = masks[i]\n",
        "            masked_img = cv2.imread(masked_infile)\n",
        "            masked_img = cv2.resize(masked_img, (ymax, xmax))\n",
        "            masked_img_arr[i, :] = masked_img\n",
        "    return imgarr, masked_img_arr\n",
        "\n",
        "\n",
        "def save_split_images_and_masks(original_images_fpath,\n",
        "                                masked_images_fpath,\n",
        "                                split_original_fpath,\n",
        "                                split_masked_fpath):\n",
        "    ''' Writes out the split images and masks to specified folders.\n",
        "\n",
        "    Params: original_images_fpath -- string of filepath to folder where the\n",
        "                                     original images are stored.\n",
        "            masked_images_fpath   -- filepath to folder where the masked\n",
        "                                     images are stored.\n",
        "            split_original_fpath  -- filepath where the\n",
        "                                     split images should go. This folder should\n",
        "                                     be created but empty.\n",
        "            split_masked_fpath    -- filepath where the split masks should go.\n",
        "                                     This folder should be created but empty.\n",
        "\n",
        "    Returns: None. Writes the updated images and masks to the specified folders\n",
        "    '''\n",
        "\n",
        "    input_images, masked_input_images = get_images_with_masks(\n",
        "                                                        original_images_fpath,\n",
        "                                                        masked_images_fpath)\n",
        "    train_images = split_images(input_images)\n",
        "    masked_train_images = split_images(masked_input_images)\n",
        "\n",
        "    zipped_images = list(zip(masked_train_images, train_images))\n",
        "\n",
        "    for i, imgs in enumerate(zipped_images):\n",
        "        cv2.imwrite(os.path.join(split_masked_fpath,\n",
        "                                 \"masked_\" + str(i) + \".jpg\"),\n",
        "                    imgs[0])\n",
        "        cv2.imwrite(os.path.join(split_original_fpath,\n",
        "                                 \"original_\" + str(i) + \".jpg\"),\n",
        "                    imgs[1])"
      ],
      "execution_count": 0,
      "outputs": []
    },
    {
      "cell_type": "code",
      "metadata": {
        "id": "Vu6EH1_hfEI8",
        "colab_type": "code",
        "colab": {}
      },
      "source": [
        "save_split_images_and_masks(ORIGINAL_IMAGE_ABSOLUTE_PATH,\n",
        "                            ORIGINAL_MASK_ABSOLUTE_PATH,\n",
        "                            PREPROCESSED_IMAGE_ABSOLUTE_PATH,\n",
        "                            PREPROCESSED_MASK_ABSOLUTE_PATH)"
      ],
      "execution_count": 0,
      "outputs": []
    },
    {
      "cell_type": "code",
      "metadata": {
        "id": "oM8AlzoKfEJH",
        "colab_type": "code",
        "colab": {}
      },
      "source": [
        "def unet(input_shape):\n",
        "    '''\n",
        "    Params: input_shape -- the shape of the images that are input to the model\n",
        "                           in the form (width_or_height, width_or_height,\n",
        "                           num_color_channels)\n",
        "\n",
        "    Returns: model -- a model that has been defined, but not yet compiled.\n",
        "                      The model is an implementation of the Unet paper\n",
        "                      (https://arxiv.org/pdf/1505.04597.pdf) and comes\n",
        "                      from this repo https://github.com/zhixuhao/unet. It has\n",
        "                      been modified to keep up with API changes in keras 2.\n",
        "    '''\n",
        "    inputs = Input(input_shape)\n",
        "\n",
        "    conv1 = Conv2D(64,\n",
        "                   3,\n",
        "                   activation='relu',\n",
        "                   padding='same',\n",
        "                   kernel_initializer='he_normal')(inputs)\n",
        "    conv1 = Conv2D(64,\n",
        "                   3,\n",
        "                   activation='relu',\n",
        "                   padding='same',\n",
        "                   kernel_initializer='he_normal')(conv1)\n",
        "    pool1 = MaxPooling2D(pool_size=(2, 2))(conv1)\n",
        "\n",
        "    conv2 = Conv2D(128,\n",
        "                   3,\n",
        "                   activation='relu',\n",
        "                   padding='same',\n",
        "                   kernel_initializer='he_normal')(pool1)\n",
        "    conv2 = Conv2D(128,\n",
        "                   3,\n",
        "                   activation='relu',\n",
        "                   padding='same',\n",
        "                   kernel_initializer='he_normal')(conv2)\n",
        "    pool2 = MaxPooling2D(pool_size=(2, 2))(conv2)\n",
        "\n",
        "    conv3 = Conv2D(256,\n",
        "                   3,\n",
        "                   activation='relu',\n",
        "                   padding='same',\n",
        "                   kernel_initializer='he_normal')(pool2)\n",
        "    conv3 = Conv2D(256,\n",
        "                   3,\n",
        "                   activation='relu',\n",
        "                   padding='same',\n",
        "                   kernel_initializer='he_normal')(conv3)\n",
        "    pool3 = MaxPooling2D(pool_size=(2, 2))(conv3)\n",
        "\n",
        "    conv4 = Conv2D(512,\n",
        "                   3,\n",
        "                   activation='relu',\n",
        "                   padding='same',\n",
        "                   kernel_initializer='he_normal')(pool3)\n",
        "    conv4 = Conv2D(512,\n",
        "                   3,\n",
        "                   activation='relu',\n",
        "                   padding='same',\n",
        "                   kernel_initializer='he_normal')(conv4)\n",
        "    drop4 = Dropout(0.5)(conv4)\n",
        "    pool4 = MaxPooling2D(pool_size=(2, 2))(drop4)\n",
        "\n",
        "    conv5 = Conv2D(1024,\n",
        "                   3,\n",
        "                   activation='relu',\n",
        "                   padding='same',\n",
        "                   kernel_initializer='he_normal')(pool4)\n",
        "    conv5 = Conv2D(1024,\n",
        "                   3,\n",
        "                   activation='relu',\n",
        "                   padding='same',\n",
        "                   kernel_initializer='he_normal')(conv5)\n",
        "    drop5 = Dropout(0.5)(conv5)\n",
        "\n",
        "    up6 = UpSampling2D(size=(2, 2))(drop5)\n",
        "    up6 = Conv2D(512,\n",
        "                 2,\n",
        "                 activation='relu',\n",
        "                 padding='same',\n",
        "                 kernel_initializer='he_normal')(up6)\n",
        "    merge6 = Concatenate(axis=3)([drop4, up6])\n",
        "    conv6 = Conv2D(512,\n",
        "                   3,\n",
        "                   activation='relu',\n",
        "                   padding='same',\n",
        "                   kernel_initializer='he_normal')(merge6)\n",
        "    conv6 = Conv2D(512,\n",
        "                   3,\n",
        "                   activation='relu',\n",
        "                   padding='same',\n",
        "                   kernel_initializer='he_normal')(conv6)\n",
        "\n",
        "    up7 = UpSampling2D(size=(2, 2))(conv6)\n",
        "    up7 = Conv2D(256,\n",
        "                 2,\n",
        "                 activation='relu',\n",
        "                 padding='same',\n",
        "                 kernel_initializer='he_normal')(up7)\n",
        "    merge7 = Concatenate(axis=3)([conv3, up7])\n",
        "    conv7 = Conv2D(256,\n",
        "                   3,\n",
        "                   activation='relu',\n",
        "                   padding='same',\n",
        "                   kernel_initializer='he_normal')(merge7)\n",
        "    conv7 = Conv2D(256,\n",
        "                   3,\n",
        "                   activation='relu',\n",
        "                   padding='same',\n",
        "                   kernel_initializer='he_normal')(conv7)\n",
        "\n",
        "    up8 = UpSampling2D(size=(2, 2))(conv7)\n",
        "    up8 = Conv2D(128,\n",
        "                 2,\n",
        "                 activation='relu',\n",
        "                 padding='same',\n",
        "                 kernel_initializer='he_normal')(up8)\n",
        "    merge8 = Concatenate(axis=3)([conv2, up8])\n",
        "    conv8 = Conv2D(128,\n",
        "                   3,\n",
        "                   activation='relu',\n",
        "                   padding='same',\n",
        "                   kernel_initializer='he_normal')(merge8)\n",
        "    conv8 = Conv2D(128,\n",
        "                   3,\n",
        "                   activation='relu',\n",
        "                   padding='same',\n",
        "                   kernel_initializer='he_normal')(conv8)\n",
        "\n",
        "    up9 = UpSampling2D(size=(2, 2))(conv8)\n",
        "    up9 = Conv2D(64,\n",
        "                 2,\n",
        "                 activation='relu',\n",
        "                 padding='same',\n",
        "                 kernel_initializer='he_normal')(up9)\n",
        "    merge9 = Concatenate(axis=3)([conv1, up9])\n",
        "    conv9 = Conv2D(64,\n",
        "                   3,\n",
        "                   activation='relu',\n",
        "                   padding='same',\n",
        "                   kernel_initializer='he_normal')(merge9)\n",
        "    conv9 = Conv2D(64,\n",
        "                   3,\n",
        "                   activation='relu',\n",
        "                   padding='same',\n",
        "                   kernel_initializer='he_normal')(conv9)\n",
        "    conv9 = Conv2D(2,\n",
        "                   3,\n",
        "                   activation='relu',\n",
        "                   padding='same',\n",
        "                   kernel_initializer='he_normal')(conv9)\n",
        "    conv10 = Conv2D(1, 1, activation='sigmoid')(conv9)\n",
        "\n",
        "    model = Model(inputs=inputs, outputs=conv10)\n",
        "\n",
        "    return model"
      ],
      "execution_count": 0,
      "outputs": []
    },
    {
      "cell_type": "code",
      "metadata": {
        "id": "4Q_iAVh8fEJS",
        "colab_type": "code",
        "colab": {}
      },
      "source": [
        "def train(input_shape,\n",
        "          image_dir,\n",
        "          mask_dir,\n",
        "          val_loss_min_fpath,\n",
        "          final_model_output_fpath,\n",
        "          history_output_fpath,\n",
        "          batch_size,\n",
        "          num_epochs,\n",
        "          learning_rate,\n",
        "          early_stop_val_patience):\n",
        "    '''Trains the unet model, saving the model+weights that performs the\n",
        "       best on the validation set after each epoch (if there is improvement)\n",
        "       as well as the final model+weights at the last epoch,\n",
        "       regardless of performance. History is pickeled once training is\n",
        "       finished.\n",
        "\n",
        "    Params: input_shape -- the shape of one image in the dataset,\n",
        "                           for instance (512, 512, 3)\n",
        "            batch_size -- the number of images to be processed together\n",
        "                          in one step through the model\n",
        "            num_epochs -- the number of times the entire data set is passed\n",
        "                          through the model\n",
        "                          (1 epoch=(num steps through the model)*(batch_size))\n",
        "            learning_rate -- a scaler value that controls how much the\n",
        "                             weights get updated in the descent\n",
        "            early_stop_val_patience -- number of epochs to stop training after\n",
        "                                       if no improvement on the validation\n",
        "                                       dataset occurs\n",
        "            val_loss_min_fpath -- the path (including file name) where the\n",
        "                                  model that performed the best on the\n",
        "                                  validation set should be saved\n",
        "            final_model_output_fpath -- the path (including file name) where\n",
        "                                        the final trained model is saved\n",
        "            history_output_fpath -- the path (including file name) where\n",
        "                                    the history's dictionary is saved\n",
        "            image_dir -- directory of images that will be input into\n",
        "                         the model (when sorted the filenames in\n",
        "                         this directory must correspond to the sorted\n",
        "                         filenames in mask_dir)\n",
        "            mask_dir -- directory of masks that will be input into the\n",
        "                        model (when sorted the filenames in this directory\n",
        "                        must correspond to the sorted filenames in image_dir)\n",
        "\n",
        "    Returns (tuple): history -- keys and values that are useful for analyzing\n",
        "                                (and plotting) data collected during training\n",
        "                     model -- the trained model. Note: this model likely\n",
        "                              overfits to the training data. To use the most\n",
        "                              performant model on the validation set,\n",
        "                              refer to the model saved to 'val_loss_min_fpath'\n",
        "    '''\n",
        "    images, masks = load_images(image_dir, mask_dir)\n",
        "    X_train, X_test, y_train, y_test = split_data(images, masks)\n",
        "    X_train = X_train/255.\n",
        "    X_test = X_test/255.\n",
        "\n",
        "    model = unet(input_shape)\n",
        "    model.compile(optimizer=Adam(lr=learning_rate),\n",
        "                  loss=dice_coef_loss,\n",
        "                  metrics=[dice_coef])\n",
        "    val_loss_checkpoint = ModelCheckpoint(val_loss_min_fpath,\n",
        "                                          monitor='val_loss',\n",
        "                                          verbose=1,\n",
        "                                          save_best_only=True,\n",
        "                                          mode='min')\n",
        "    early_stop = EarlyStopping(monitor='val_loss',\n",
        "                               patience=early_stop_val_patience)\n",
        "    history = model.fit(X_train,\n",
        "                        y_train,\n",
        "                        batch_size=batch_size,\n",
        "                        epochs=num_epochs,\n",
        "                        validation_data=(X_test, y_test),\n",
        "                        callbacks=[early_stop, val_loss_checkpoint])\n",
        "    model.save(final_model_output_fpath)\n",
        "    with open(history_output_fpath, 'wb') as history_file:\n",
        "        pickle.dump(history.history, history_file)\n",
        "    return history, model"
      ],
      "execution_count": 0,
      "outputs": []
    },
    {
      "cell_type": "code",
      "metadata": {
        "id": "jgzqvSqQfEJb",
        "colab_type": "code",
        "outputId": "9fd9fc1f-ad52-4c49-86e0-c4a60d5db6d2",
        "colab": {
          "base_uri": "https://localhost:8080/",
          "height": 1000
        }
      },
      "source": [
        "history, model = train((RESIZED_WIDTH, RESIZED_HEIGHT, 3),\n",
        "                       PREPROCESSED_IMAGE_ABSOLUTE_PATH,\n",
        "                       PREPROCESSED_MASK_ABSOLUTE_PATH,\n",
        "                       MODEL_WITH_MINIMUM_LOSS_ABSOLUTE_FPATH,\n",
        "                       FINAL_MODEL_ABSOLUTE_FPATH,\n",
        "                       HISTORY_ABSOLUTE_FPATH,\n",
        "                       BATCH_SIZE,\n",
        "                       NUM_EPOCHS,\n",
        "                       LEARNING_RATE,\n",
        "                       EARLY_STOP_VAL_PATIENCE)"
      ],
      "execution_count": 0,
      "outputs": [
        {
          "output_type": "stream",
          "text": [
            "Train on 3168 samples, validate on 1057 samples\n",
            "Epoch 1/25\n",
            "3168/3168 [==============================] - 436s 138ms/step - loss: 0.8021 - dice_coef: 0.1979 - val_loss: 0.8096 - val_dice_coef: 0.1904\n",
            "\n",
            "Epoch 00001: val_loss improved from inf to 0.80961, saving model to /content/drive/My Drive/val_loss_min_unet.hdf5\n",
            "Epoch 2/25\n",
            "3168/3168 [==============================] - 433s 137ms/step - loss: 0.8020 - dice_coef: 0.1980 - val_loss: 0.8096 - val_dice_coef: 0.1904\n",
            "\n",
            "Epoch 00002: val_loss did not improve from 0.80961\n",
            "Epoch 3/25\n",
            "3168/3168 [==============================] - 433s 137ms/step - loss: 0.8019 - dice_coef: 0.1981 - val_loss: 0.8096 - val_dice_coef: 0.1904\n",
            "\n",
            "Epoch 00003: val_loss did not improve from 0.80961\n",
            "Epoch 4/25\n",
            "3168/3168 [==============================] - 434s 137ms/step - loss: 0.8019 - dice_coef: 0.1981 - val_loss: 0.8096 - val_dice_coef: 0.1904\n",
            "\n",
            "Epoch 00004: val_loss did not improve from 0.80961\n",
            "Epoch 5/25\n",
            "3168/3168 [==============================] - 433s 137ms/step - loss: 0.8020 - dice_coef: 0.1980 - val_loss: 0.8096 - val_dice_coef: 0.1904\n",
            "\n",
            "Epoch 00005: val_loss did not improve from 0.80961\n",
            "Epoch 6/25\n",
            "3168/3168 [==============================] - 433s 137ms/step - loss: 0.8019 - dice_coef: 0.1981 - val_loss: 0.8096 - val_dice_coef: 0.1904\n",
            "\n",
            "Epoch 00006: val_loss did not improve from 0.80961\n",
            "Epoch 7/25\n",
            "3168/3168 [==============================] - 435s 137ms/step - loss: 0.8018 - dice_coef: 0.1982 - val_loss: 0.8096 - val_dice_coef: 0.1904\n",
            "\n",
            "Epoch 00007: val_loss did not improve from 0.80961\n",
            "Epoch 8/25\n",
            "3168/3168 [==============================] - 433s 137ms/step - loss: 0.8018 - dice_coef: 0.1982 - val_loss: 0.8096 - val_dice_coef: 0.1904\n",
            "\n",
            "Epoch 00008: val_loss did not improve from 0.80961\n",
            "Epoch 9/25\n",
            "3168/3168 [==============================] - 435s 137ms/step - loss: 0.8018 - dice_coef: 0.1982 - val_loss: 0.8096 - val_dice_coef: 0.1904\n",
            "\n",
            "Epoch 00009: val_loss did not improve from 0.80961\n",
            "Epoch 10/25\n",
            "3168/3168 [==============================] - 434s 137ms/step - loss: 0.8019 - dice_coef: 0.1981 - val_loss: 0.8096 - val_dice_coef: 0.1904\n",
            "\n",
            "Epoch 00010: val_loss did not improve from 0.80961\n",
            "Epoch 11/25\n",
            "3168/3168 [==============================] - 432s 136ms/step - loss: 0.8018 - dice_coef: 0.1982 - val_loss: 0.8096 - val_dice_coef: 0.1904\n",
            "\n",
            "Epoch 00011: val_loss did not improve from 0.80961\n",
            "Epoch 12/25\n",
            "3168/3168 [==============================] - 433s 137ms/step - loss: 0.8019 - dice_coef: 0.1981 - val_loss: 0.8096 - val_dice_coef: 0.1904\n",
            "\n",
            "Epoch 00012: val_loss did not improve from 0.80961\n",
            "Epoch 13/25\n",
            "3168/3168 [==============================] - 433s 137ms/step - loss: 0.8020 - dice_coef: 0.1980 - val_loss: 0.8096 - val_dice_coef: 0.1904\n",
            "\n",
            "Epoch 00013: val_loss did not improve from 0.80961\n",
            "Epoch 14/25\n",
            "3168/3168 [==============================] - 432s 136ms/step - loss: 0.8020 - dice_coef: 0.1980 - val_loss: 0.8096 - val_dice_coef: 0.1904\n",
            "\n",
            "Epoch 00014: val_loss did not improve from 0.80961\n",
            "Epoch 15/25\n",
            "3168/3168 [==============================] - 433s 137ms/step - loss: 0.8020 - dice_coef: 0.1980 - val_loss: 0.8096 - val_dice_coef: 0.1904\n",
            "\n",
            "Epoch 00015: val_loss did not improve from 0.80961\n",
            "Epoch 16/25\n",
            "3168/3168 [==============================] - 431s 136ms/step - loss: 0.8018 - dice_coef: 0.1982 - val_loss: 0.8096 - val_dice_coef: 0.1904\n",
            "\n",
            "Epoch 00016: val_loss did not improve from 0.80961\n",
            "Epoch 17/25\n",
            "3168/3168 [==============================] - 432s 136ms/step - loss: 0.8019 - dice_coef: 0.1981 - val_loss: 0.8096 - val_dice_coef: 0.1904\n",
            "\n",
            "Epoch 00017: val_loss did not improve from 0.80961\n",
            "Epoch 18/25\n",
            "3168/3168 [==============================] - 433s 137ms/step - loss: 0.8018 - dice_coef: 0.1982 - val_loss: 0.8096 - val_dice_coef: 0.1904\n",
            "\n",
            "Epoch 00018: val_loss did not improve from 0.80961\n",
            "Epoch 19/25\n",
            " 992/3168 [========>.....................] - ETA: 4:25 - loss: 0.7976 - dice_coef: 0.2024"
          ],
          "name": "stdout"
        }
      ]
    },
    {
      "cell_type": "code",
      "metadata": {
        "id": "jkq2tC5XbdHJ",
        "colab_type": "code",
        "colab": {}
      },
      "source": [
        "# split data, keeping the validation set\n",
        "images, masks = load_images(PREPROCESSED_IMAGE_ABSOLUTE_PATH,\n",
        "                            PREPROCESSED_MASK_ABSOLUTE_PATH)\n",
        "_, X_test, _, y_test = split_data(images, masks)"
      ],
      "execution_count": 0,
      "outputs": []
    },
    {
      "cell_type": "code",
      "metadata": {
        "id": "CFwrbn06bdHV",
        "colab_type": "code",
        "outputId": "16a306fa-b979-4e7e-cdd5-72582600ba84",
        "colab": {
          "base_uri": "https://localhost:8080/",
          "height": 34
        }
      },
      "source": [
        "# select how many images to predict\n",
        "X_test = X_test[0:10, :, :, :]\n",
        "X_test.shape"
      ],
      "execution_count": 0,
      "outputs": [
        {
          "output_type": "execute_result",
          "data": {
            "text/plain": [
              "(10, 256, 256, 3)"
            ]
          },
          "metadata": {
            "tags": []
          },
          "execution_count": 13
        }
      ]
    },
    {
      "cell_type": "code",
      "metadata": {
        "id": "rmxSsg8_bdHi",
        "colab_type": "code",
        "colab": {}
      },
      "source": [
        "# scale the images to have values between 0-1 instead of 0-255, since we trained the network on images with values 0-1\n",
        "X_test = X_test/255."
      ],
      "execution_count": 0,
      "outputs": []
    },
    {
      "cell_type": "code",
      "metadata": {
        "id": "9G8hVf96bdHu",
        "colab_type": "code",
        "colab": {}
      },
      "source": [
        "# predict model masks\n",
        "predicted_masks = model.predict(X_test)"
      ],
      "execution_count": 0,
      "outputs": []
    },
    {
      "cell_type": "code",
      "metadata": {
        "id": "IPvlJ96obdH5",
        "colab_type": "code",
        "colab": {}
      },
      "source": [
        "# many of the values of the mask will be very close to 0 or very close to 1. (for instance 0.0000000001 or .99999999).\n",
        "# map them to their proper values\n",
        "reasonable_threshold = .5\n",
        "predicted_masks[predicted_masks < reasonable_threshold] = 0.0\n",
        "predicted_masks[predicted_masks > reasonable_threshold] = 1.0"
      ],
      "execution_count": 0,
      "outputs": []
    },
    {
      "cell_type": "code",
      "metadata": {
        "id": "i1yAD4exbdIE",
        "colab_type": "code",
        "outputId": "47721396-bcff-40df-e54f-9fa993d41c6f",
        "colab": {
          "base_uri": "https://localhost:8080/",
          "height": 1000
        }
      },
      "source": [
        "for i, (image_to_predict, predicted_mask, true_mask) in enumerate(zip(X_test, predicted_masks, y_test)):\n",
        "    print(\"Color Image #: \" + str(i))\n",
        "    plt.imshow(image_to_predict)\n",
        "    plt.show()\n",
        "    print(\"Predicted mask #: \" + str(i))\n",
        "    predicted_mask = predicted_mask.reshape(RESIZED_WIDTH, RESIZED_HEIGHT)\n",
        "    plt.imshow(predicted_mask, cmap='gray')\n",
        "    plt.show()\n",
        "    print(\"True mask #: \" + str(i))\n",
        "    true_mask = true_mask.reshape(RESIZED_WIDTH, RESIZED_HEIGHT)\n",
        "    plt.imshow(true_mask, cmap='gray')\n",
        "    plt.show()"
      ],
      "execution_count": 0,
      "outputs": [
        {
          "output_type": "stream",
          "text": [
            "Color Image #: 0\n"
          ],
          "name": "stdout"
        },
        {
          "output_type": "display_data",
          "data": {
            "image/png": "[encoded data removed]",
            "text/plain": [
              "<Figure size 432x288 with 1 Axes>"
            ]
          },
          "metadata": {
            "tags": []
          }
        },
        {
          "output_type": "stream",
          "text": [
            "Predicted mask #: 0\n"
          ],
          "name": "stdout"
        },
        {
          "output_type": "display_data",
          "data": {
            "image/png": "[encoded data removed]",
            "text/plain": [
              "<Figure size 432x288 with 1 Axes>"
            ]
          },
          "metadata": {
            "tags": []
          }
        },
        {
          "output_type": "stream",
          "text": [
            "True mask #: 0\n"
          ],
          "name": "stdout"
        },
        {
          "output_type": "display_data",
          "data": {
            "image/png": "[encoded data removed]",
            "text/plain": [
              "<Figure size 432x288 with 1 Axes>"
            ]
          },
          "metadata": {
            "tags": []
          }
        },
        {
          "output_type": "stream",
          "text": [
            "Color Image #: 1\n"
          ],
          "name": "stdout"
        },
        {
          "output_type": "display_data",
          "data": {
            "image/png": "[encoded data removed]",
            "text/plain": [
              "<Figure size 432x288 with 1 Axes>"
            ]
          },
          "metadata": {
            "tags": []
          }
        },
        {
          "output_type": "stream",
          "text": [
            "Predicted mask #: 1\n"
          ],
          "name": "stdout"
        },
        {
          "output_type": "display_data",
          "data": {
            "image/png": "[encoded data removed]",
            "text/plain": [
              "<Figure size 432x288 with 1 Axes>"
            ]
          },
          "metadata": {
            "tags": []
          }
        },
        {
          "output_type": "stream",
          "text": [
            "True mask #: 1\n"
          ],
          "name": "stdout"
        },
        {
          "output_type": "display_data",
          "data": {
            "image/png": "[encoded data removed]",
            "text/plain": [
              "<Figure size 432x288 with 1 Axes>"
            ]
          },
          "metadata": {
            "tags": []
          }
        },
        {
          "output_type": "stream",
          "text": [
            "Color Image #: 2\n"
          ],
          "name": "stdout"
        },
        {
          "output_type": "display_data",
          "data": {
            "image/png": "[encoded data removed]",
            "text/plain": [
              "<Figure size 432x288 with 1 Axes>"
            ]
          },
          "metadata": {
            "tags": []
          }
        },
        {
          "output_type": "stream",
          "text": [
            "Predicted mask #: 2\n"
          ],
          "name": "stdout"
        },
        {
          "output_type": "display_data",
          "data": {
            "image/png": "[encoded data removed]",
            "text/plain": [
              "<Figure size 432x288 with 1 Axes>"
            ]
          },
          "metadata": {
            "tags": []
          }
        },
        {
          "output_type": "stream",
          "text": [
            "True mask #: 2\n"
          ],
          "name": "stdout"
        },
        {
          "output_type": "display_data",
          "data": {
            "image/png": "[encoded data removed]",
            "text/plain": [
              "<Figure size 432x288 with 1 Axes>"
            ]
          },
          "metadata": {
            "tags": []
          }
        },
        {
          "output_type": "stream",
          "text": [
            "Color Image #: 3\n"
          ],
          "name": "stdout"
        },
        {
          "output_type": "display_data",
          "data": {
            "image/png": "[encoded data removed]",
            "text/plain": [
              "<Figure size 432x288 with 1 Axes>"
            ]
          },
          "metadata": {
            "tags": []
          }
        },
        {
          "output_type": "stream",
          "text": [
            "Predicted mask #: 3\n"
          ],
          "name": "stdout"
        },
        {
          "output_type": "display_data",
          "data": {
            "image/png": "[encoded data removed]",
            "text/plain": [
              "<Figure size 432x288 with 1 Axes>"
            ]
          },
          "metadata": {
            "tags": []
          }
        },
        {
          "output_type": "stream",
          "text": [
            "True mask #: 3\n"
          ],
          "name": "stdout"
        },
        {
          "output_type": "display_data",
          "data": {
            "image/png": "[encoded data removed]",
            "text/plain": [
              "<Figure size 432x288 with 1 Axes>"
            ]
          },
          "metadata": {
            "tags": []
          }
        },
        {
          "output_type": "stream",
          "text": [
            "Color Image #: 4\n"
          ],
          "name": "stdout"
        },
        {
          "output_type": "display_data",
          "data": {
            "image/png": "[encoded data removed]",
            "text/plain": [
              "<Figure size 432x288 with 1 Axes>"
            ]
          },
          "metadata": {
            "tags": []
          }
        },
        {
          "output_type": "stream",
          "text": [
            "Predicted mask #: 4\n"
          ],
          "name": "stdout"
        },
        {
          "output_type": "display_data",
          "data": {
            "image/png": "[encoded data removed]",
            "text/plain": [
              "<Figure size 432x288 with 1 Axes>"
            ]
          },
          "metadata": {
            "tags": []
          }
        },
        {
          "output_type": "stream",
          "text": [
            "True mask #: 4\n"
          ],
          "name": "stdout"
        },
        {
          "output_type": "display_data",
          "data": {
            "image/png": "[encoded data removed]",
            "text/plain": [
              "<Figure size 432x288 with 1 Axes>"
            ]
          },
          "metadata": {
            "tags": []
          }
        },
        {
          "output_type": "stream",
          "text": [
            "Color Image #: 5\n"
          ],
          "name": "stdout"
        },
        {
          "output_type": "display_data",
          "data": {
            "image/png": "[encoded data removed]",
            "text/plain": [
              "<Figure size 432x288 with 1 Axes>"
            ]
          },
          "metadata": {
            "tags": []
          }
        },
        {
          "output_type": "stream",
          "text": [
            "Predicted mask #: 5\n"
          ],
          "name": "stdout"
        },
        {
          "output_type": "display_data",
          "data": {
            "image/png": "[encoded data removed]",
            "text/plain": [
              "<Figure size 432x288 with 1 Axes>"
            ]
          },
          "metadata": {
            "tags": []
          }
        },
        {
          "output_type": "stream",
          "text": [
            "True mask #: 5\n"
          ],
          "name": "stdout"
        },
        {
          "output_type": "display_data",
          "data": {
            "image/png": "[encoded data removed]",
            "text/plain": [
              "<Figure size 432x288 with 1 Axes>"
            ]
          },
          "metadata": {
            "tags": []
          }
        },
        {
          "output_type": "stream",
          "text": [
            "Color Image #: 6\n"
          ],
          "name": "stdout"
        },
        {
          "output_type": "display_data",
          "data": {
            "image/png": "[encoded data removed]",
            "text/plain": [
              "<Figure size 432x288 with 1 Axes>"
            ]
          },
          "metadata": {
            "tags": []
          }
        },
        {
          "output_type": "stream",
          "text": [
            "Predicted mask #: 6\n"
          ],
          "name": "stdout"
        },
        {
          "output_type": "display_data",
          "data": {
            "image/png": "[encoded data removed]",
            "text/plain": [
              "<Figure size 432x288 with 1 Axes>"
            ]
          },
          "metadata": {
            "tags": []
          }
        },
        {
          "output_type": "stream",
          "text": [
            "True mask #: 6\n"
          ],
          "name": "stdout"
        },
        {
          "output_type": "display_data",
          "data": {
            "image/png": "[encoded data removed]",
            "text/plain": [
              "<Figure size 432x288 with 1 Axes>"
            ]
          },
          "metadata": {
            "tags": []
          }
        },
        {
          "output_type": "stream",
          "text": [
            "Color Image #: 7\n"
          ],
          "name": "stdout"
        },
        {
          "output_type": "display_data",
          "data": {
            "image/png": "[encoded data removed]",
            "text/plain": [
              "<Figure size 432x288 with 1 Axes>"
            ]
          },
          "metadata": {
            "tags": []
          }
        },
        {
          "output_type": "stream",
          "text": [
            "Predicted mask #: 7\n"
          ],
          "name": "stdout"
        },
        {
          "output_type": "display_data",
          "data": {
            "image/png": "[encoded data removed]",
            "text/plain": [
              "<Figure size 432x288 with 1 Axes>"
            ]
          },
          "metadata": {
            "tags": []
          }
        },
        {
          "output_type": "stream",
          "text": [
            "True mask #: 7\n"
          ],
          "name": "stdout"
        },
        {
          "output_type": "display_data",
          "data": {
            "image/png": "[encoded data removed]",
            "text/plain": [
              "<Figure size 432x288 with 1 Axes>"
            ]
          },
          "metadata": {
            "tags": []
          }
        },
        {
          "output_type": "stream",
          "text": [
            "Color Image #: 8\n"
          ],
          "name": "stdout"
        },
        {
          "output_type": "display_data",
          "data": {
            "image/png": "[encoded data removed]",
            "text/plain": [
              "<Figure size 432x288 with 1 Axes>"
            ]
          },
          "metadata": {
            "tags": []
          }
        },
        {
          "output_type": "stream",
          "text": [
            "Predicted mask #: 8\n"
          ],
          "name": "stdout"
        },
        {
          "output_type": "display_data",
          "data": {
            "image/png": "[encoded data removed]",
            "text/plain": [
              "<Figure size 432x288 with 1 Axes>"
            ]
          },
          "metadata": {
            "tags": []
          }
        },
        {
          "output_type": "stream",
          "text": [
            "True mask #: 8\n"
          ],
          "name": "stdout"
        },
        {
          "output_type": "display_data",
          "data": {
            "image/png": "[encoded data removed]",
            "text/plain": [
              "<Figure size 432x288 with 1 Axes>"
            ]
          },
          "metadata": {
            "tags": []
          }
        },
        {
          "output_type": "stream",
          "text": [
            "Color Image #: 9\n"
          ],
          "name": "stdout"
        },
        {
          "output_type": "display_data",
          "data": {
            "image/png": "[encoded data removed]",
            "text/plain": [
              "<Figure size 432x288 with 1 Axes>"
            ]
          },
          "metadata": {
            "tags": []
          }
        },
        {
          "output_type": "stream",
          "text": [
            "Predicted mask #: 9\n"
          ],
          "name": "stdout"
        },
        {
          "output_type": "display_data",
          "data": {
            "image/png": "[encoded data removed]",
            "text/plain": [
              "<Figure size 432x288 with 1 Axes>"
            ]
          },
          "metadata": {
            "tags": []
          }
        },
        {
          "output_type": "stream",
          "text": [
            "True mask #: 9\n"
          ],
          "name": "stdout"
        },
        {
          "output_type": "display_data",
          "data": {
            "image/png": "[encoded data removed]",
            "text/plain": [
              "<Figure size 432x288 with 1 Axes>"
            ]
          },
          "metadata": {
            "tags": []
          }
        }
      ]
    },
    {
      "cell_type": "code",
      "metadata": {
        "id": "dQZbniLAbdIP",
        "colab_type": "code",
        "colab": {}
      },
      "source": [
        "# Read in the history for training and validation sets\n",
        "with open(HISTORY_ABSOLUTE_FPATH, 'rb') as history:\n",
        "    history = pickle.load(history)\n",
        "    print(history)"
      ],
      "execution_count": 0,
      "outputs": []
    }
  ]
}