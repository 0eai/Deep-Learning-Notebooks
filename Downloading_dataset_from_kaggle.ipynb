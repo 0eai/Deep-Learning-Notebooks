{
  "nbformat": 4,
  "nbformat_minor": 0,
  "metadata": {
    "colab": {
      "name": "Downloading_dataset_from_kaggle.ipynb",
      "version": "0.3.2",
      "provenance": [],
      "include_colab_link": true
    },
    "kernelspec": {
      "name": "python3",
      "display_name": "Python 3"
    },
    "accelerator": "GPU"
  },
  "cells": [
    {
      "cell_type": "markdown",
      "metadata": {
        "id": "view-in-github",
        "colab_type": "text"
      },
      "source": [
        "<a href=\"https://colab.research.google.com/github/Anspire/Notebooks/blob/master/Downloading_dataset_from_kaggle.ipynb\" target=\"_parent\"><img src=\"https://colab.research.google.com/assets/colab-badge.svg\" alt=\"Open In Colab\"/></a>"
      ]
    },
    {
      "cell_type": "markdown",
      "metadata": {
        "id": "henrUZvYgu3C",
        "colab_type": "text"
      },
      "source": [
        "### Authenticating with Kaggle using kaggle.json\n",
        "\n",
        "Navigate to https://www.kaggle.com. Then go to the [Account tab of your user profile](https://www.kaggle.com/me/account) and select Create API Token. This will trigger the download of kaggle.json, a file containing your API credentials."
      ]
    },
    {
      "cell_type": "markdown",
      "metadata": {
        "id": "G6fiuRHK7ryw",
        "colab_type": "text"
      },
      "source": [
        "### Upload kaggle.json\n",
        "Then run the cell below to upload kaggle.json to your Colab runtime."
      ]
    },
    {
      "cell_type": "code",
      "metadata": {
        "id": "nA4wJ6PzXxJu",
        "colab_type": "code",
        "colab": {}
      },
      "source": [
        "from google.colab import files\n",
        "\n",
        "files.upload()"
      ],
      "execution_count": 0,
      "outputs": []
    },
    {
      "cell_type": "markdown",
      "metadata": {
        "id": "2H5W8MQb8IEY",
        "colab_type": "text"
      },
      "source": [
        "make sure the kaggle.json file is present."
      ]
    },
    {
      "cell_type": "code",
      "metadata": {
        "id": "HS8Qc09A8SQL",
        "colab_type": "code",
        "colab": {
          "base_uri": "https://localhost:8080/",
          "height": 34
        },
        "outputId": "f08650e1-6382-4a45-bc0a-9df1be6a5759"
      },
      "source": [
        "!ls -lha kaggle.json"
      ],
      "execution_count": 2,
      "outputs": [
        {
          "output_type": "stream",
          "text": [
            "-rw-r--r-- 1 root root 63 Sep 14 23:05 kaggle.json\n"
          ],
          "name": "stdout"
        }
      ]
    },
    {
      "cell_type": "markdown",
      "metadata": {
        "id": "9oajp6i1-QBy",
        "colab_type": "text"
      },
      "source": [
        "### Install the Kaggle API client"
      ]
    },
    {
      "cell_type": "code",
      "metadata": {
        "id": "M08ifAiN-Wl7",
        "colab_type": "code",
        "colab": {}
      },
      "source": [
        "!pip install -q kaggle"
      ],
      "execution_count": 0,
      "outputs": []
    },
    {
      "cell_type": "markdown",
      "metadata": {
        "id": "vtF5CI8--oW7",
        "colab_type": "text"
      },
      "source": [
        "The Kaggle API client expects this file to be in ~/.kaggle, so move it there."
      ]
    },
    {
      "cell_type": "code",
      "metadata": {
        "id": "QUCDv9GNYDPZ",
        "colab_type": "code",
        "colab": {}
      },
      "source": [
        "!mkdir -p ~/.kaggle\n",
        "!mv kaggle.json ~/.kaggle/\n",
        "\n",
        "# This permissions change avoids a warning on Kaggle tool startup.\n",
        "!chmod 600 ~/.kaggle/kaggle.json"
      ],
      "execution_count": 0,
      "outputs": []
    },
    {
      "cell_type": "markdown",
      "metadata": {
        "id": "rCFC0Mh7uMk5",
        "colab_type": "text"
      },
      "source": [
        "### Download dataset locally from kaggle\n",
        "https://www.kaggle.com/puneet6060/intel-image-classification"
      ]
    },
    {
      "cell_type": "code",
      "metadata": {
        "id": "niele6FZaq5A",
        "colab_type": "code",
        "outputId": "de996cc3-7e5f-4593-a866-ecc928bdee6c",
        "colab": {
          "base_uri": "https://localhost:8080/",
          "height": 69
        }
      },
      "source": [
        "from os.path import exists\n",
        "\n",
        "## dataset uploader user name not display name\n",
        "user_name = 'puneet6060'\n",
        "dataset_name = 'intel-image-classification'\n",
        "\n",
        "if not exists(dataset_name + '.zip'):\n",
        "  get_ipython().system('kaggle datasets download -d ' + userid + '/' + dataset_name)"
      ],
      "execution_count": 5,
      "outputs": [
        {
          "output_type": "stream",
          "text": [
            "Downloading intel-image-classification.zip to /content\n",
            " 98% 337M/344M [00:05<00:00, 55.8MB/s]\n",
            "100% 344M/344M [00:05<00:00, 61.8MB/s]\n"
          ],
          "name": "stdout"
        }
      ]
    }
  ]
}