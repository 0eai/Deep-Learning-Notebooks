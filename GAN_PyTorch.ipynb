{
  "nbformat": 4,
  "nbformat_minor": 0,
  "metadata": {
    "colab": {
      "name": "GAN_PyTorch.ipynb",
      "provenance": [],
      "collapsed_sections": [],
      "include_colab_link": true
    },
    "kernelspec": {
      "name": "python3",
      "display_name": "Python 3"
    },
    "accelerator": "GPU"
  },
  "cells": [
    {
      "cell_type": "markdown",
      "metadata": {
        "id": "view-in-github",
        "colab_type": "text"
      },
      "source": [
        "<a href=\"https://colab.research.google.com/github/Anspire/Notebooks/blob/master/GAN_PyTorch.ipynb\" target=\"_parent\"><img src=\"https://colab.research.google.com/assets/colab-badge.svg\" alt=\"Open In Colab\"/></a>"
      ]
    },
    {
      "cell_type": "code",
      "metadata": {
        "id": "5tKkRBX9U_jQ",
        "colab_type": "code",
        "colab": {}
      },
      "source": [
        "import torch\n",
        "from torch import nn, optim\n",
        "from torch.autograd.variable import Variable\n",
        "\n",
        "import torchvision\n",
        "import torchvision.transforms as transforms"
      ],
      "execution_count": 0,
      "outputs": []
    },
    {
      "cell_type": "code",
      "metadata": {
        "id": "nHquZMQ5VMz2",
        "colab_type": "code",
        "outputId": "0ebfe29f-1153-4069-90ba-bc70f8e2b7b0",
        "colab": {
          "base_uri": "https://localhost:8080/",
          "height": 905
        }
      },
      "source": [
        "# Preprocessing\n",
        "transform = transforms.Compose(\n",
        "    [transforms.ToTensor(),\n",
        "     transforms.Normalize((0.5,), (0.5,))])\n",
        "\n",
        "# Training data\n",
        "train_set = torchvision.datasets.MNIST(root='.',\n",
        "                                      train=True,\n",
        "                                      download=True,\n",
        "                                      transform=transform)\n",
        "train_loader = torch.utils.data.DataLoader(train_set,\n",
        "                                          batch_size=32,\n",
        "                                          shuffle=True)\n",
        "\n",
        "# Labels\n",
        "classes = [str(i) for i in range(0,10)]\n",
        "print(classes)"
      ],
      "execution_count": 0,
      "outputs": [
        {
          "output_type": "stream",
          "text": [
            "\r0it [00:00, ?it/s]"
          ],
          "name": "stderr"
        },
        {
          "output_type": "stream",
          "text": [
            "Downloading http://yann.lecun.com/exdb/mnist/train-images-idx3-ubyte.gz to ./MNIST/raw/train-images-idx3-ubyte.gz\n"
          ],
          "name": "stdout"
        },
        {
          "output_type": "stream",
          "text": [
            "100%|█████████▉| 9895936/9912422 [00:34<00:00, 220629.76it/s]"
          ],
          "name": "stderr"
        },
        {
          "output_type": "stream",
          "text": [
            "Extracting ./MNIST/raw/train-images-idx3-ubyte.gz\n"
          ],
          "name": "stdout"
        },
        {
          "output_type": "stream",
          "text": [
            "\n",
            "0it [00:00, ?it/s]\u001b[A"
          ],
          "name": "stderr"
        },
        {
          "output_type": "stream",
          "text": [
            "Downloading http://yann.lecun.com/exdb/mnist/train-labels-idx1-ubyte.gz to ./MNIST/raw/train-labels-idx1-ubyte.gz\n"
          ],
          "name": "stdout"
        },
        {
          "output_type": "stream",
          "text": [
            "\n",
            "  0%|          | 0/28881 [00:00<?, ?it/s]\u001b[A\n",
            " 57%|█████▋    | 16384/28881 [00:00<00:00, 86224.52it/s]\u001b[A\n",
            "32768it [00:00, 56551.03it/s]                           \u001b[A\n",
            "0it [00:00, ?it/s]\u001b[A"
          ],
          "name": "stderr"
        },
        {
          "output_type": "stream",
          "text": [
            "Extracting ./MNIST/raw/train-labels-idx1-ubyte.gz\n",
            "Downloading http://yann.lecun.com/exdb/mnist/t10k-images-idx3-ubyte.gz to ./MNIST/raw/t10k-images-idx3-ubyte.gz\n"
          ],
          "name": "stdout"
        },
        {
          "output_type": "stream",
          "text": [
            "\n",
            "  0%|          | 0/1648877 [00:00<?, ?it/s]\u001b[A\n",
            "  1%|          | 16384/1648877 [00:00<00:21, 76704.32it/s]\u001b[A\n",
            "  2%|▏         | 40960/1648877 [00:00<00:18, 88085.69it/s]\u001b[A\n",
            "  4%|▍         | 73728/1648877 [00:00<00:15, 103981.97it/s]\u001b[A\n",
            "  7%|▋         | 114688/1648877 [00:01<00:12, 123942.73it/s]\u001b[A\n",
            "  9%|▉         | 147456/1648877 [00:01<00:10, 136665.55it/s]\u001b[A\n",
            " 11%|█▏        | 188416/1648877 [00:01<00:09, 154801.32it/s]\u001b[A\n",
            " 14%|█▍        | 229376/1648877 [00:01<00:08, 170700.20it/s]\u001b[A\n",
            " 16%|█▋        | 270336/1648877 [00:01<00:07, 183817.93it/s]\u001b[A\n",
            " 19%|█▉        | 319488/1648877 [00:02<00:06, 203140.33it/s]\u001b[A\n",
            " 22%|██▏       | 360448/1648877 [00:02<00:06, 208989.97it/s]\u001b[A\n",
            " 25%|██▍       | 409600/1648877 [00:02<00:05, 223885.43it/s]\u001b[A\n",
            " 28%|██▊       | 466944/1648877 [00:02<00:04, 245055.52it/s]\u001b[A\n",
            " 31%|███▏      | 516096/1648877 [00:02<00:04, 251744.70it/s]\u001b[A\n",
            " 35%|███▍      | 573440/1648877 [00:02<00:04, 267687.53it/s]\u001b[A\n",
            " 39%|███▉      | 638976/1648877 [00:03<00:03, 290167.69it/s]\u001b[A\n",
            " 42%|████▏     | 696320/1648877 [00:03<00:03, 297267.93it/s]\u001b[A\n",
            " 46%|████▌     | 761856/1648877 [00:03<00:02, 313778.09it/s]\u001b[A\n",
            " 51%|█████     | 835584/1648877 [00:03<00:02, 336624.49it/s]\u001b[A\n",
            " 55%|█████▌    | 909312/1648877 [00:03<00:02, 354744.80it/s]\u001b[A\n",
            " 60%|█████▉    | 983040/1648877 [00:04<00:01, 368554.40it/s]\u001b[A\n",
            " 65%|██████▍   | 1064960/1648877 [00:04<00:01, 390066.59it/s]\u001b[A\n",
            " 70%|██████▉   | 1146880/1648877 [00:04<00:01, 406568.81it/s]\u001b[A\n",
            " 75%|███████▌  | 1236992/1648877 [00:04<00:00, 429809.26it/s]\u001b[A\n",
            " 81%|████████  | 1335296/1648877 [00:04<00:00, 458064.00it/s]\u001b[A\n",
            " 86%|████████▋ | 1425408/1648877 [00:04<00:00, 469031.38it/s]\u001b[A\n",
            " 93%|█████████▎| 1531904/1648877 [00:05<00:00, 498982.88it/s]\u001b[A\n",
            " 98%|█████████▊| 1613824/1648877 [00:05<00:00, 366293.84it/s]\u001b[A\n",
            "\n",
            "0it [00:00, ?it/s]\u001b[A\u001b[A"
          ],
          "name": "stderr"
        },
        {
          "output_type": "stream",
          "text": [
            "Extracting ./MNIST/raw/t10k-images-idx3-ubyte.gz\n",
            "Downloading http://yann.lecun.com/exdb/mnist/t10k-labels-idx1-ubyte.gz to ./MNIST/raw/t10k-labels-idx1-ubyte.gz\n"
          ],
          "name": "stdout"
        },
        {
          "output_type": "stream",
          "text": [
            "\n",
            "\n",
            "  0%|          | 0/4542 [00:00<?, ?it/s]\u001b[A\u001b[A\n",
            "\n",
            "8192it [00:00, 21184.36it/s]            \u001b[A\u001b[A"
          ],
          "name": "stderr"
        },
        {
          "output_type": "stream",
          "text": [
            "Extracting ./MNIST/raw/t10k-labels-idx1-ubyte.gz\n",
            "Processing...\n",
            "Done!\n",
            "['0', '1', '2', '3', '4', '5', '6', '7', '8', '9']\n"
          ],
          "name": "stdout"
        }
      ]
    },
    {
      "cell_type": "code",
      "metadata": {
        "id": "gfXGsWprVRjX",
        "colab_type": "code",
        "colab": {}
      },
      "source": [
        "# Our Discriminator class\n",
        "class Discriminator(nn.Module):\n",
        "    def __init__(self):\n",
        "        super().__init__()\n",
        "        self.model = nn.Sequential(\n",
        "            nn.Linear(784, 1024),\n",
        "            nn.ReLU(inplace=True),\n",
        "            nn.Dropout(0.3),\n",
        "            nn.Linear(1024, 512),\n",
        "            nn.ReLU(inplace=True),\n",
        "            nn.Dropout(0.3),\n",
        "            nn.Linear(512, 256),\n",
        "            nn.ReLU(inplace=True),\n",
        "            nn.Dropout(0.3),\n",
        "            nn.Linear(256, 1),\n",
        "            nn.Sigmoid()\n",
        "        )\n",
        "\n",
        "    def forward(self, x):\n",
        "        out = self.model(x.view(x.size(0), 784))\n",
        "        out = out.view(out.size(0), -1)\n",
        "        return out.cuda()\n",
        "        \n",
        "discriminator = Discriminator()"
      ],
      "execution_count": 0,
      "outputs": []
    },
    {
      "cell_type": "code",
      "metadata": {
        "id": "GpE-ZhAAVWUm",
        "colab_type": "code",
        "colab": {}
      },
      "source": [
        "# Our Generator class\n",
        "class Generator(nn.Module):\n",
        "    def __init__(self):\n",
        "        super().__init__()\n",
        "        self.model = nn.Sequential(\n",
        "            nn.Linear(100, 256),\n",
        "            nn.ReLU(inplace=True),\n",
        "            nn.Linear(256, 512),\n",
        "            nn.ReLU(inplace=True),\n",
        "            nn.Linear(512, 1024),\n",
        "            nn.ReLU(inplace=True),\n",
        "            nn.Linear(1024, 784),\n",
        "            nn.Tanh()\n",
        "        )\n",
        "\n",
        "    def forward(self, x):\n",
        "        x = x.view(x.size(0), 100)\n",
        "        out = self.model(x).cuda()\n",
        "        return out\n",
        "\n",
        "generator = Generator()"
      ],
      "execution_count": 0,
      "outputs": []
    },
    {
      "cell_type": "code",
      "metadata": {
        "id": "G9QLIHc6VbU0",
        "colab_type": "code",
        "outputId": "d46f5783-86b0-46bc-f74a-762edfbee365",
        "colab": {
          "base_uri": "https://localhost:8080/",
          "height": 34
        }
      },
      "source": [
        "# If we have a GPU with CUDA, use it\n",
        "if torch.cuda.is_available():\n",
        "    print(\"Using CUDA\")\n",
        "    discriminator.cuda()\n",
        "    generator.cuda()\n",
        "\n",
        "# Setup loss function and optimizers\n",
        "lr = 0.0001\n",
        "num_epochs = 40\n",
        "num_batches = len(train_loader)\n",
        "\n",
        "criterion = nn.BCELoss()\n",
        "d_optimizer = torch.optim.Adam(discriminator.parameters(), lr=lr)\n",
        "g_optimizer = torch.optim.Adam(generator.parameters(), lr=lr)"
      ],
      "execution_count": 0,
      "outputs": [
        {
          "output_type": "stream",
          "text": [
            "Using CUDA\n"
          ],
          "name": "stdout"
        }
      ]
    },
    {
      "cell_type": "code",
      "metadata": {
        "id": "gVVhzH9mVlv7",
        "colab_type": "code",
        "colab": {}
      },
      "source": [
        "# Convenience function for training our Discriminator\n",
        "def train_discriminator(discriminator, real_images, real_labels, fake_images, fake_labels):\n",
        "    discriminator.zero_grad()\n",
        "\n",
        "    # Get the predictions, loss, and score of the real images\n",
        "    predictions = discriminator(real_images)\n",
        "    real_loss = criterion(predictions, real_labels)\n",
        "    real_score = predictions\n",
        "\n",
        "    # Get the predictions, loss, and score of the fake images\n",
        "    predictions = discriminator(fake_images)\n",
        "    fake_loss = criterion(predictions, fake_labels)\n",
        "    fake_score = predictions\n",
        "\n",
        "    # Calculate the total loss, update the weights, and update the optimizer\n",
        "    d_loss = real_loss + fake_loss\n",
        "    d_loss.backward()\n",
        "    d_optimizer.step()\n",
        "    return d_loss, real_score, fake_score\n",
        "\n",
        "# Convenience function for training our Generator\n",
        "def train_generator(generator, discriminator_outputs, real_labels):\n",
        "    generator.zero_grad()\n",
        "\n",
        "    # Calculate the total loss, update the weights, and update the optimizer\n",
        "    g_loss = criterion(discriminator_outputs, real_labels)\n",
        "    g_loss.backward()\n",
        "    g_optimizer.step()\n",
        "    return g_loss\n",
        "    \n",
        "for epoch in range(num_epochs):\n",
        "    for n, (images, _) in enumerate(train_loader):\n",
        "\n",
        "        # (1) Prepare the real data for the Discriminator\n",
        "        real_images = Variable(images).cuda()\n",
        "        real_labels = Variable(torch.ones(images.size(0))).cuda()\n",
        "\n",
        "        # (2) Prepare the random noise data for the Generator\n",
        "        noise = Variable(torch.randn(images.size(0), 100)).cuda()\n",
        "\n",
        "        # (3) Prepare the fake data for the Discriminator\n",
        "        fake_images = generator(noise)\n",
        "        fake_labels = Variable(torch.zeros(images.size(0))).cuda()\n",
        "\n",
        "        # (4) Train the discriminator on real and fake data\n",
        "        d_loss, real_score, fake_score = train_discriminator(discriminator,\n",
        "                                                             real_images, real_labels,\n",
        "                                                             fake_images, fake_labels)\n",
        "\n",
        "        # (5a) Generate some new fake images from the Generator.\n",
        "        # (5b) Get the label predictions of the Discriminator on that fake data.\n",
        "        noise = Variable(torch.randn(images.size(0), 100)).cuda()\n",
        "        fake_images = generator(noise)\n",
        "\n",
        "        outputs = discriminator(fake_images)\n",
        "\n",
        "        # (6) Train the generator\n",
        "        g_loss = train_generator(generator, outputs, real_labels)\n",
        "    print(epoch)"
      ],
      "execution_count": 0,
      "outputs": []
    }
  ]
}